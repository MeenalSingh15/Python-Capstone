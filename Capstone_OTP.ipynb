{
  "cells": [
    {
      "cell_type": "code",
      "execution_count": 1,
      "metadata": {
        "id": "Ob16uQ66cy58"
      },
      "outputs": [],
      "source": [
        "# all modules used in this project\n",
        "\n",
        "import random\n",
        "import smtplib\n",
        "from email.mime.text import MIMEText\n",
        "from email.mime.multipart import MIMEMultipart"
      ]
    },
    {
      "cell_type": "markdown",
      "source": [
        "**OTP**\n",
        "\n",
        "otp is generated using randint function is used to generate a random integer within a specified range\n",
        "\n",
        "choice function may also be used .It is used to select a random element from a sequence."
      ],
      "metadata": {
        "id": "qyoL5M81L2RY"
      }
    },
    {
      "cell_type": "code",
      "execution_count": 2,
      "metadata": {
        "id": "3rRtdYe_bNVs"
      },
      "outputs": [],
      "source": [
        "\n",
        "# Function to generate OTP\n",
        "def generate_otp():\n",
        "    return random.randint(100000, 999999)"
      ]
    },
    {
      "cell_type": "code",
      "execution_count": 3,
      "metadata": {
        "id": "yMgrafE7Yrr0"
      },
      "outputs": [],
      "source": [
        "# Function to validate email\n",
        "def is_valid_email(email):\n",
        "\n",
        "    # Check if '@' symbol is present and there is at least one character before and after it\n",
        "  if '@' in email and email.count('@') == 1 and email.index('@') > 0 and email.index('@') < len(email) - 1:\n",
        "      # Check if '.' is present after the '@' symbol and there is at least one character after it\n",
        "      if '.' in email[email.index('@'):] and email.index('.') < len(email) - 1:\n",
        "          return True\n",
        "  else:\n",
        "    print(\"Invalid email id Try Again!!\")\n",
        "    return False"
      ]
    },
    {
      "cell_type": "code",
      "execution_count": 4,
      "metadata": {
        "id": "6jBjDB4KgqMK"
      },
      "outputs": [],
      "source": [
        "# Function to send OTP via email\n",
        "\n",
        "def send_otp_email(email, otp):\n",
        "    sender_email = \"meenals923@gmail.com\"  # Enter your email address\n",
        "    sender_password = \"flxi kbsr grwl bxmm\"  # Enter your email password\n",
        "    subject = \"OTP Verification\" # subject of mail\n",
        "    message = f\"Your OTP for verification is: {otp}\"\n",
        "\n",
        "    msg = MIMEMultipart()\n",
        "    msg['From'] = sender_email\n",
        "    msg['To'] = email\n",
        "    msg['Subject'] = subject\n",
        "\n",
        "    msg.attach(MIMEText(message, 'plain'))\n",
        "\n",
        "    try:  # for error handling\n",
        "        server = smtplib.SMTP('smtp.gmail.com', 587)\n",
        "        server.starttls()# for secure connection\n",
        "        server.login(sender_email, sender_password) # login into sender email\n",
        "        server.sendmail(sender_email, email, msg.as_string()) # sending otp\n",
        "        server.quit()\n",
        "        print(\"OTP sent successfully!\")\n",
        "    except Exception as e:\n",
        "        print(\"Failed to send OTP:\", e)"
      ]
    },
    {
      "cell_type": "code",
      "source": [
        "# Function to validate OTP\n",
        "def validate_otp(user_input_otp, otp):\n",
        "    if user_input_otp == otp:\n",
        "        print(\"Access granted!\")\n",
        "        return True\n",
        "    else:\n",
        "        print(\"Invalid OTP. Please try again.\")\n",
        "        return False\n"
      ],
      "metadata": {
        "id": "yPAYhWUU_hua"
      },
      "execution_count": 14,
      "outputs": []
    },
    {
      "cell_type": "code",
      "source": [
        "# this loop limits the number of times user can eneter an email\n",
        "for i in range(1,4):\n",
        "  email=input(\"Enter a valid email for otp verification - \")\n",
        "  if i==3:\n",
        "    print(\"Last attempt to enter Email reached! \")\n",
        "  elif is_valid_email(email):  #breaks if user entered correct email\n",
        "    break\n",
        "  else:\n",
        "    print(f\"{3-i} Attempts to enter email left! \")\n",
        "# now this is the main loop generates sends\n",
        "if is_valid_email(email):\n",
        "  otp = generate_otp()\n",
        "  send_otp_email(email, otp)\n",
        "  for j in range(1,4):  #checks the otp 3 times\n",
        "    user_input_otp = int(input(\"Enter OTP for verification - \"))\n",
        "    if validate_otp(user_input_otp,otp):\n",
        "      break # breaks if user entered correct OTP\n",
        "    elif j ==3 :\n",
        "      print(\"Last attempt to enter OTP reached! \")\n",
        "    else:\n",
        "      print(f\"{3-j} Attempts to enter OTP left! \")\n",
        "\n",
        "\n"
      ],
      "metadata": {
        "colab": {
          "base_uri": "https://localhost:8080/"
        },
        "id": "ONTMeQAV_m13",
        "outputId": "f624e9af-d9f2-4c2b-f5fe-2621b603cf3d"
      },
      "execution_count": 26,
      "outputs": [
        {
          "output_type": "stream",
          "name": "stdout",
          "text": [
            "Enter a valid email for otp verification - mbcxhds@dbhjs.com\n",
            "407506\n",
            "OTP sent successfully!\n",
            "Enter OTP for verification - 407506\n",
            "Access granted!\n"
          ]
        }
      ]
    }
  ],
  "metadata": {
    "colab": {
      "provenance": []
    },
    "kernelspec": {
      "display_name": "Python 3",
      "name": "python3"
    },
    "language_info": {
      "name": "python"
    }
  },
  "nbformat": 4,
  "nbformat_minor": 0
}